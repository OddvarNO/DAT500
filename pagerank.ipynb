{
 "cells": [
  {
   "cell_type": "code",
   "execution_count": 18,
   "metadata": {},
   "outputs": [],
   "source": [
    "from pyspark.sql import SparkSession, Row\n",
    "import re\n",
    "from operator import add\n",
    "from pyspark.sql.functions import explode_outer"
   ]
  },
  {
   "cell_type": "code",
   "execution_count": 21,
   "metadata": {},
   "outputs": [
    {
     "ename": "ConnectionRefusedError",
     "evalue": "[Errno 111] Connection refused",
     "output_type": "error",
     "traceback": [
      "\u001b[0;31m---------------------------------------------------------------------------\u001b[0m",
      "\u001b[0;31mConnectionRefusedError\u001b[0m                    Traceback (most recent call last)",
      "\u001b[1;32m/home/ubuntu/pagerank.ipynb Cell 2'\u001b[0m in \u001b[0;36m<cell line: 1>\u001b[0;34m()\u001b[0m\n\u001b[0;32m----> <a href='vscode-notebook-cell://ssh-remote%2Bnamenode/home/ubuntu/pagerank.ipynb#ch0000001vscode-remote?line=0'>1</a>\u001b[0m spark \u001b[39m=\u001b[39m SparkSession\u001b[39m.\u001b[39;49mbuilder\u001b[39m.\u001b[39;49mappName(\u001b[39m\"\u001b[39;49m\u001b[39mTesting\u001b[39;49m\u001b[39m\"\u001b[39;49m)\u001b[39m.\u001b[39;49mgetOrCreate()\n",
      "File \u001b[0;32m~/.local/lib/python3.8/site-packages/pyspark/sql/session.py:224\u001b[0m, in \u001b[0;36mSparkSession.Builder.getOrCreate\u001b[0;34m(self)\u001b[0m\n\u001b[1;32m    <a href='file:///home/ubuntu/.local/lib/python3.8/site-packages/pyspark/sql/session.py?line=221'>222</a>\u001b[0m     sc \u001b[39m=\u001b[39m \u001b[39mself\u001b[39m\u001b[39m.\u001b[39m_sc\n\u001b[1;32m    <a href='file:///home/ubuntu/.local/lib/python3.8/site-packages/pyspark/sql/session.py?line=222'>223</a>\u001b[0m \u001b[39melse\u001b[39;00m:\n\u001b[0;32m--> <a href='file:///home/ubuntu/.local/lib/python3.8/site-packages/pyspark/sql/session.py?line=223'>224</a>\u001b[0m     sparkConf \u001b[39m=\u001b[39m SparkConf()\n\u001b[1;32m    <a href='file:///home/ubuntu/.local/lib/python3.8/site-packages/pyspark/sql/session.py?line=224'>225</a>\u001b[0m     \u001b[39mfor\u001b[39;00m key, value \u001b[39min\u001b[39;00m \u001b[39mself\u001b[39m\u001b[39m.\u001b[39m_options\u001b[39m.\u001b[39mitems():\n\u001b[1;32m    <a href='file:///home/ubuntu/.local/lib/python3.8/site-packages/pyspark/sql/session.py?line=225'>226</a>\u001b[0m         sparkConf\u001b[39m.\u001b[39mset(key, value)\n",
      "File \u001b[0;32m~/.local/lib/python3.8/site-packages/pyspark/conf.py:120\u001b[0m, in \u001b[0;36mSparkConf.__init__\u001b[0;34m(self, loadDefaults, _jvm, _jconf)\u001b[0m\n\u001b[1;32m    <a href='file:///home/ubuntu/.local/lib/python3.8/site-packages/pyspark/conf.py?line=115'>116</a>\u001b[0m _jvm \u001b[39m=\u001b[39m _jvm \u001b[39mor\u001b[39;00m SparkContext\u001b[39m.\u001b[39m_jvm\n\u001b[1;32m    <a href='file:///home/ubuntu/.local/lib/python3.8/site-packages/pyspark/conf.py?line=117'>118</a>\u001b[0m \u001b[39mif\u001b[39;00m _jvm \u001b[39mis\u001b[39;00m \u001b[39mnot\u001b[39;00m \u001b[39mNone\u001b[39;00m:\n\u001b[1;32m    <a href='file:///home/ubuntu/.local/lib/python3.8/site-packages/pyspark/conf.py?line=118'>119</a>\u001b[0m     \u001b[39m# JVM is created, so create self._jconf directly through JVM\u001b[39;00m\n\u001b[0;32m--> <a href='file:///home/ubuntu/.local/lib/python3.8/site-packages/pyspark/conf.py?line=119'>120</a>\u001b[0m     \u001b[39mself\u001b[39m\u001b[39m.\u001b[39m_jconf \u001b[39m=\u001b[39m _jvm\u001b[39m.\u001b[39;49mSparkConf(loadDefaults)\n\u001b[1;32m    <a href='file:///home/ubuntu/.local/lib/python3.8/site-packages/pyspark/conf.py?line=120'>121</a>\u001b[0m     \u001b[39mself\u001b[39m\u001b[39m.\u001b[39m_conf \u001b[39m=\u001b[39m \u001b[39mNone\u001b[39;00m\n\u001b[1;32m    <a href='file:///home/ubuntu/.local/lib/python3.8/site-packages/pyspark/conf.py?line=121'>122</a>\u001b[0m \u001b[39melse\u001b[39;00m:\n\u001b[1;32m    <a href='file:///home/ubuntu/.local/lib/python3.8/site-packages/pyspark/conf.py?line=122'>123</a>\u001b[0m     \u001b[39m# JVM is not created, so store data in self._conf first\u001b[39;00m\n",
      "File \u001b[0;32m~/.local/lib/python3.8/site-packages/py4j/java_gateway.py:1709\u001b[0m, in \u001b[0;36mJVMView.__getattr__\u001b[0;34m(self, name)\u001b[0m\n\u001b[1;32m   <a href='file:///home/ubuntu/.local/lib/python3.8/site-packages/py4j/java_gateway.py?line=1705'>1706</a>\u001b[0m \u001b[39mif\u001b[39;00m name \u001b[39m==\u001b[39m UserHelpAutoCompletion\u001b[39m.\u001b[39mKEY:\n\u001b[1;32m   <a href='file:///home/ubuntu/.local/lib/python3.8/site-packages/py4j/java_gateway.py?line=1706'>1707</a>\u001b[0m     \u001b[39mreturn\u001b[39;00m UserHelpAutoCompletion()\n\u001b[0;32m-> <a href='file:///home/ubuntu/.local/lib/python3.8/site-packages/py4j/java_gateway.py?line=1708'>1709</a>\u001b[0m answer \u001b[39m=\u001b[39m \u001b[39mself\u001b[39;49m\u001b[39m.\u001b[39;49m_gateway_client\u001b[39m.\u001b[39;49msend_command(\n\u001b[1;32m   <a href='file:///home/ubuntu/.local/lib/python3.8/site-packages/py4j/java_gateway.py?line=1709'>1710</a>\u001b[0m     proto\u001b[39m.\u001b[39;49mREFLECTION_COMMAND_NAME \u001b[39m+\u001b[39;49m\n\u001b[1;32m   <a href='file:///home/ubuntu/.local/lib/python3.8/site-packages/py4j/java_gateway.py?line=1710'>1711</a>\u001b[0m     proto\u001b[39m.\u001b[39;49mREFL_GET_UNKNOWN_SUB_COMMAND_NAME \u001b[39m+\u001b[39;49m name \u001b[39m+\u001b[39;49m \u001b[39m\"\u001b[39;49m\u001b[39m\\n\u001b[39;49;00m\u001b[39m\"\u001b[39;49m \u001b[39m+\u001b[39;49m \u001b[39mself\u001b[39;49m\u001b[39m.\u001b[39;49m_id \u001b[39m+\u001b[39;49m\n\u001b[1;32m   <a href='file:///home/ubuntu/.local/lib/python3.8/site-packages/py4j/java_gateway.py?line=1711'>1712</a>\u001b[0m     \u001b[39m\"\u001b[39;49m\u001b[39m\\n\u001b[39;49;00m\u001b[39m\"\u001b[39;49m \u001b[39m+\u001b[39;49m proto\u001b[39m.\u001b[39;49mEND_COMMAND_PART)\n\u001b[1;32m   <a href='file:///home/ubuntu/.local/lib/python3.8/site-packages/py4j/java_gateway.py?line=1712'>1713</a>\u001b[0m \u001b[39mif\u001b[39;00m answer \u001b[39m==\u001b[39m proto\u001b[39m.\u001b[39mSUCCESS_PACKAGE:\n\u001b[1;32m   <a href='file:///home/ubuntu/.local/lib/python3.8/site-packages/py4j/java_gateway.py?line=1713'>1714</a>\u001b[0m     \u001b[39mreturn\u001b[39;00m JavaPackage(name, \u001b[39mself\u001b[39m\u001b[39m.\u001b[39m_gateway_client, jvm_id\u001b[39m=\u001b[39m\u001b[39mself\u001b[39m\u001b[39m.\u001b[39m_id)\n",
      "File \u001b[0;32m~/.local/lib/python3.8/site-packages/py4j/java_gateway.py:1036\u001b[0m, in \u001b[0;36mGatewayClient.send_command\u001b[0;34m(self, command, retry, binary)\u001b[0m\n\u001b[1;32m   <a href='file:///home/ubuntu/.local/lib/python3.8/site-packages/py4j/java_gateway.py?line=1014'>1015</a>\u001b[0m \u001b[39mdef\u001b[39;00m \u001b[39msend_command\u001b[39m(\u001b[39mself\u001b[39m, command, retry\u001b[39m=\u001b[39m\u001b[39mTrue\u001b[39;00m, binary\u001b[39m=\u001b[39m\u001b[39mFalse\u001b[39;00m):\n\u001b[1;32m   <a href='file:///home/ubuntu/.local/lib/python3.8/site-packages/py4j/java_gateway.py?line=1015'>1016</a>\u001b[0m     \u001b[39m\"\"\"Sends a command to the JVM. This method is not intended to be\u001b[39;00m\n\u001b[1;32m   <a href='file:///home/ubuntu/.local/lib/python3.8/site-packages/py4j/java_gateway.py?line=1016'>1017</a>\u001b[0m \u001b[39m       called directly by Py4J users. It is usually called by\u001b[39;00m\n\u001b[1;32m   <a href='file:///home/ubuntu/.local/lib/python3.8/site-packages/py4j/java_gateway.py?line=1017'>1018</a>\u001b[0m \u001b[39m       :class:`JavaMember` instances.\u001b[39;00m\n\u001b[0;32m   (...)\u001b[0m\n\u001b[1;32m   <a href='file:///home/ubuntu/.local/lib/python3.8/site-packages/py4j/java_gateway.py?line=1033'>1034</a>\u001b[0m \u001b[39m     if `binary` is `True`.\u001b[39;00m\n\u001b[1;32m   <a href='file:///home/ubuntu/.local/lib/python3.8/site-packages/py4j/java_gateway.py?line=1034'>1035</a>\u001b[0m \u001b[39m    \"\"\"\u001b[39;00m\n\u001b[0;32m-> <a href='file:///home/ubuntu/.local/lib/python3.8/site-packages/py4j/java_gateway.py?line=1035'>1036</a>\u001b[0m     connection \u001b[39m=\u001b[39m \u001b[39mself\u001b[39;49m\u001b[39m.\u001b[39;49m_get_connection()\n\u001b[1;32m   <a href='file:///home/ubuntu/.local/lib/python3.8/site-packages/py4j/java_gateway.py?line=1036'>1037</a>\u001b[0m     \u001b[39mtry\u001b[39;00m:\n\u001b[1;32m   <a href='file:///home/ubuntu/.local/lib/python3.8/site-packages/py4j/java_gateway.py?line=1037'>1038</a>\u001b[0m         response \u001b[39m=\u001b[39m connection\u001b[39m.\u001b[39msend_command(command)\n",
      "File \u001b[0;32m~/.local/lib/python3.8/site-packages/py4j/clientserver.py:281\u001b[0m, in \u001b[0;36mJavaClient._get_connection\u001b[0;34m(self)\u001b[0m\n\u001b[1;32m    <a href='file:///home/ubuntu/.local/lib/python3.8/site-packages/py4j/clientserver.py?line=277'>278</a>\u001b[0m     \u001b[39mpass\u001b[39;00m\n\u001b[1;32m    <a href='file:///home/ubuntu/.local/lib/python3.8/site-packages/py4j/clientserver.py?line=279'>280</a>\u001b[0m \u001b[39mif\u001b[39;00m connection \u001b[39mis\u001b[39;00m \u001b[39mNone\u001b[39;00m \u001b[39mor\u001b[39;00m connection\u001b[39m.\u001b[39msocket \u001b[39mis\u001b[39;00m \u001b[39mNone\u001b[39;00m:\n\u001b[0;32m--> <a href='file:///home/ubuntu/.local/lib/python3.8/site-packages/py4j/clientserver.py?line=280'>281</a>\u001b[0m     connection \u001b[39m=\u001b[39m \u001b[39mself\u001b[39;49m\u001b[39m.\u001b[39;49m_create_new_connection()\n\u001b[1;32m    <a href='file:///home/ubuntu/.local/lib/python3.8/site-packages/py4j/clientserver.py?line=281'>282</a>\u001b[0m \u001b[39mreturn\u001b[39;00m connection\n",
      "File \u001b[0;32m~/.local/lib/python3.8/site-packages/py4j/clientserver.py:288\u001b[0m, in \u001b[0;36mJavaClient._create_new_connection\u001b[0;34m(self)\u001b[0m\n\u001b[1;32m    <a href='file:///home/ubuntu/.local/lib/python3.8/site-packages/py4j/clientserver.py?line=283'>284</a>\u001b[0m \u001b[39mdef\u001b[39;00m \u001b[39m_create_new_connection\u001b[39m(\u001b[39mself\u001b[39m):\n\u001b[1;32m    <a href='file:///home/ubuntu/.local/lib/python3.8/site-packages/py4j/clientserver.py?line=284'>285</a>\u001b[0m     connection \u001b[39m=\u001b[39m ClientServerConnection(\n\u001b[1;32m    <a href='file:///home/ubuntu/.local/lib/python3.8/site-packages/py4j/clientserver.py?line=285'>286</a>\u001b[0m         \u001b[39mself\u001b[39m\u001b[39m.\u001b[39mjava_parameters, \u001b[39mself\u001b[39m\u001b[39m.\u001b[39mpython_parameters,\n\u001b[1;32m    <a href='file:///home/ubuntu/.local/lib/python3.8/site-packages/py4j/clientserver.py?line=286'>287</a>\u001b[0m         \u001b[39mself\u001b[39m\u001b[39m.\u001b[39mgateway_property, \u001b[39mself\u001b[39m)\n\u001b[0;32m--> <a href='file:///home/ubuntu/.local/lib/python3.8/site-packages/py4j/clientserver.py?line=287'>288</a>\u001b[0m     connection\u001b[39m.\u001b[39;49mconnect_to_java_server()\n\u001b[1;32m    <a href='file:///home/ubuntu/.local/lib/python3.8/site-packages/py4j/clientserver.py?line=288'>289</a>\u001b[0m     \u001b[39mself\u001b[39m\u001b[39m.\u001b[39mset_thread_connection(connection)\n\u001b[1;32m    <a href='file:///home/ubuntu/.local/lib/python3.8/site-packages/py4j/clientserver.py?line=289'>290</a>\u001b[0m     \u001b[39mreturn\u001b[39;00m connection\n",
      "File \u001b[0;32m~/.local/lib/python3.8/site-packages/py4j/clientserver.py:402\u001b[0m, in \u001b[0;36mClientServerConnection.connect_to_java_server\u001b[0;34m(self)\u001b[0m\n\u001b[1;32m    <a href='file:///home/ubuntu/.local/lib/python3.8/site-packages/py4j/clientserver.py?line=398'>399</a>\u001b[0m \u001b[39mif\u001b[39;00m \u001b[39mself\u001b[39m\u001b[39m.\u001b[39mssl_context:\n\u001b[1;32m    <a href='file:///home/ubuntu/.local/lib/python3.8/site-packages/py4j/clientserver.py?line=399'>400</a>\u001b[0m     \u001b[39mself\u001b[39m\u001b[39m.\u001b[39msocket \u001b[39m=\u001b[39m \u001b[39mself\u001b[39m\u001b[39m.\u001b[39mssl_context\u001b[39m.\u001b[39mwrap_socket(\n\u001b[1;32m    <a href='file:///home/ubuntu/.local/lib/python3.8/site-packages/py4j/clientserver.py?line=400'>401</a>\u001b[0m         \u001b[39mself\u001b[39m\u001b[39m.\u001b[39msocket, server_hostname\u001b[39m=\u001b[39m\u001b[39mself\u001b[39m\u001b[39m.\u001b[39mjava_address)\n\u001b[0;32m--> <a href='file:///home/ubuntu/.local/lib/python3.8/site-packages/py4j/clientserver.py?line=401'>402</a>\u001b[0m \u001b[39mself\u001b[39;49m\u001b[39m.\u001b[39;49msocket\u001b[39m.\u001b[39;49mconnect((\u001b[39mself\u001b[39;49m\u001b[39m.\u001b[39;49mjava_address, \u001b[39mself\u001b[39;49m\u001b[39m.\u001b[39;49mjava_port))\n\u001b[1;32m    <a href='file:///home/ubuntu/.local/lib/python3.8/site-packages/py4j/clientserver.py?line=402'>403</a>\u001b[0m \u001b[39mself\u001b[39m\u001b[39m.\u001b[39mstream \u001b[39m=\u001b[39m \u001b[39mself\u001b[39m\u001b[39m.\u001b[39msocket\u001b[39m.\u001b[39mmakefile(\u001b[39m\"\u001b[39m\u001b[39mrb\u001b[39m\u001b[39m\"\u001b[39m)\n\u001b[1;32m    <a href='file:///home/ubuntu/.local/lib/python3.8/site-packages/py4j/clientserver.py?line=403'>404</a>\u001b[0m \u001b[39mself\u001b[39m\u001b[39m.\u001b[39mis_connected \u001b[39m=\u001b[39m \u001b[39mTrue\u001b[39;00m\n",
      "\u001b[0;31mConnectionRefusedError\u001b[0m: [Errno 111] Connection refused"
     ]
    }
   ],
   "source": [
    "spark = SparkSession.builder.appName(\"Testing\").getOrCreate()"
   ]
  },
  {
   "cell_type": "code",
   "execution_count": null,
   "metadata": {},
   "outputs": [
    {
     "name": "stderr",
     "output_type": "stream",
     "text": [
      "                                                                                \r"
     ]
    },
    {
     "data": {
      "text/plain": [
       "[Row(language='zh', neighbor_urls=['http://idinfo.zjamr.zj.gov.cn', 'http://www.beian.miit.gov.cn', 'http://www.0575ls.cn', 'http://bdimg.share.baidu.com', 'https://hm.baidu.com', 'https://webscan.qianxin.com', 'http://www.beian.gov.cn', 'http://img.ksbbs.com', 'http://g.0575ls.cn'], parsed_text='登录   注册会员     购房  楼盘大全 地图找房 购房36计 看房日记   资讯  新\\u2003闻 专\\u2003题 土\\u2003地 成交数据 地产招聘 业主论坛   服务  看\\u2002房\\u2002团  印象楼盘 置业大讲堂    城市  城市规划 销焦精英 地产名人堂 地产下午茶               搜楼盘 搜新闻         区域越城区柯桥区诸暨上虞嵊州新昌     面积 70㎡以下 70-90㎡ 90-120㎡ 120-150㎡ 150-200㎡ 200-300㎡ 300㎡以上     价格 12000元/㎡以下 12000-15000元/㎡ 15000-18000元/㎡ 18000-21000元/㎡ 21000-25000元/㎡ 25000元/㎡以上        高级搜索         高级搜索           绍兴楼市 » 楼市资讯 » 全国资讯 杭州：共有产权保障住房“同权”商品住房  2021-12-03记者：  来源：中国网地产 分享到：   杭州市1日对外发布《杭州市共有产权保障住房管理办法》，其中明确，共有产权保障住房面向符合条件的市区户籍和稳定就业的非市区户籍家庭供应，购买共有产权保障住房享有与购买商品住房同等的公共服务权益。 根据办法，市区户籍家庭要在符合限购政策前提下同时满足户籍、住房等相关条件，非市区户籍家庭需满足居住证、住房以及累计缴纳社保或个税年限等相关条件。 办法明确，共有产权保障住房销售基准价按同地段、同类型商品住房市场价格合理优惠后确定。单套销售价格按照销售基准价及其浮动幅度确定，在售房阶段向社会公布。划拨土地共有产权保障住房，购房家庭可根据支付能力在50%至80%范围内选择产权份额比例，按照单套销售价格对应的不同比例支付购房款。出让土地共有产权保障住房，购房家庭产权份额为土地出让时已确定的份额比例，按照单套销售价格对应的产权比例支付购房款。 在使用管理方面，杭州提出共有产权保障住房购房家庭取得不动产权证满5年的，可向代持机构提出一次性增购政府份额的申请，增购后住房性质转为商品住房，划拨土地权利性质调整为出让。取得不动产权证满10年后，方可通过买卖等方式上市交易。关键字：杭州同权          帮你找房     意向区域--=不限=-- 意向楼盘 预算总价 50万以下 50万-80万 80万-120万 120万-170万 170万-230万 230万-300万 300万以上  手机号码 验证码 发送验证码  提交     本地新闻 高铁绍兴北站开启“刷脸进站”最快只要3秒绍兴首个立体停车库呼之欲出将设车位400个万达能否成功进驻嵊州城南新区呢？拭目以待新昌万丰通用机场建立浙东航空护林飞行基地镜湖7号9号地块竞买人不足3人转挂牌出让浙江树人学院二期工程项目规划出炉    更多»城建论坛 湖门村拆迁·2017.9.23腾空率95%！湖塘黄酒小镇·规划及进度，增加5幅规划河山桥板块将迎来最大商住地块，渐渐成型！伟丰文化体育产业园·古玩城开业啦！大庆寺安置小区·2017.9.25最新进度！土得掉渣，柯桥区最丑安置小区露真容！镜湖出山！苏宁竞得镜湖中心区8号地块！    更多»看房日记 金地自在天地都市阳光花园继瓜渚湖之后，柯桥城市湖居新势力——大小坂湖板块正在崛起。这是一片令人惊叹的原生态湖面，人们对它既熟悉又陌生。        本周关注 棠颂和鸣院中式文化研习落幕天街TOD奢宅三开告捷朗清园兰亭雅境示范区开放！樾湖湾二期新品应市登临金昌烟波飞鹭新品登记盛启     热点楼盘推荐  和樾府 |                高层、多层均价约26900元/㎡建面约45万方综合体住区龙湖金帝天汇 |                高层、商铺待定绍兴首个天街TOD项目世茂云樾府 |                高层、商铺均价10000元/㎡恒宇锦园 |                高层均价约22000元/㎡金昌烟波飞鹭 |                多层、排屋、别墅洋房均价约31122元/㎡限量江景大平层      “绍兴楼市网”为“绍兴市合田文化传播有限公司”旗下运营维护的网站 广告投放联系电话：15957573228 资讯报料电话：0575-85198573 楼盘资料更新电话：0575-85198573 社区管理、看房团联系电话：0575-85198573 媒体合作联系电话：0575-85198573 版权所有：绍兴市合田文化传播有限公司 地址：绍兴市越城区镜湖新区凤林西路300号环宇总部壹号1605-1608室 浙ICP 13032030号 增值电信业务经营许可证：浙B2-20120255', profanities=0, server='yunjiasu', url='http://0575ls.cn/news-52300.htm')]"
      ]
     },
     "execution_count": 5,
     "metadata": {},
     "output_type": "execute_result"
    }
   ],
   "source": [
    "rdd_data = spark.read.json('processed_data.json')\n",
    "rdd_data.take(1)"
   ]
  },
  {
   "cell_type": "code",
   "execution_count": null,
   "metadata": {},
   "outputs": [
    {
     "name": "stderr",
     "output_type": "stream",
     "text": [
      "                                                                                \r"
     ]
    },
    {
     "data": {
      "text/plain": [
       "[('http://0575ls.cn/news-52300.htm',\n",
       "  <pyspark.resultiterable.ResultIterable at 0x7f122df9cc40>),\n",
       " ('http://0575ls.cn/pan/list?j=4&qu=0&lpmj=0',\n",
       "  <pyspark.resultiterable.ResultIterable at 0x7f122df9c760>),\n",
       " ('http://08.od.ua/bytovaya_tehnika/stiralnye_mashiny/simens_bosh_magazin_bytovoy_tehniki',\n",
       "  <pyspark.resultiterable.ResultIterable at 0x7f122df9cbe0>),\n",
       " ('http://100lat.pck.pl/fakty/pawel-sapieha/',\n",
       "  <pyspark.resultiterable.ResultIterable at 0x7f122df9c0a0>),\n",
       " ('http://121.100.18.218/tampil_ipk_ikm/ipk_ikm.php',\n",
       "  <pyspark.resultiterable.ResultIterable at 0x7f122df9c3a0>)]"
      ]
     },
     "execution_count": 7,
     "metadata": {},
     "output_type": "execute_result"
    }
   ],
   "source": [
    "def parseNeighbors(urls):\n",
    "    \"\"\"Parses a urls pair string into urls pair.\"\"\"\n",
    "    #parts = re.split(r'\\s+', urls)\n",
    "    parts = urls\n",
    "    return parts[0], parts[1]\n",
    "\n",
    "\n",
    "# OLD METHOD\n",
    "lines_testfile = spark.read.text('testfile.txt').rdd.map(lambda r: r[0])\n",
    "print(lines_testfile.take(5))\n",
    "\n",
    "\n",
    "# NEW METHOD\n",
    "rdd_data = spark.read.json('processed_data.json')\n",
    "exploded = rdd_data.select('url', explode_outer(rdd_data.neighbor_urls).alias(\"neighbour_url\"))\n",
    "lines_json = exploded.rdd.map(lambda x: x)\n",
    "print(lines_json.take(5))\n",
    "\n",
    "\n",
    "links = lines_json.map(lambda urls: parseNeighbors(urls)).distinct().groupByKey().cache()\n",
    "#print(links.take(5))\n",
    "#links.take(5)"
   ]
  },
  {
   "cell_type": "code",
   "execution_count": null,
   "metadata": {},
   "outputs": [
    {
     "name": "stdout",
     "output_type": "stream",
     "text": [
      "+--------------------+--------------------+\n",
      "|                 url|       neighbour_url|\n",
      "+--------------------+--------------------+\n",
      "|http://0575ls.cn/...|http://idinfo.zja...|\n",
      "|http://0575ls.cn/...|http://www.beian....|\n",
      "|http://0575ls.cn/...|http://www.0575ls.cn|\n",
      "|http://0575ls.cn/...|http://bdimg.shar...|\n",
      "|http://0575ls.cn/...|https://hm.baidu.com|\n",
      "|http://0575ls.cn/...|https://webscan.q...|\n",
      "|http://0575ls.cn/...|http://www.beian....|\n",
      "|http://0575ls.cn/...|http://img.ksbbs.com|\n",
      "|http://0575ls.cn/...|  http://g.0575ls.cn|\n",
      "|http://0575ls.cn/...|http://idinfo.zja...|\n",
      "|http://0575ls.cn/...|http://www.beian....|\n",
      "|http://0575ls.cn/...|http://www.0575ls.cn|\n",
      "|http://0575ls.cn/...|https://webscan.q...|\n",
      "|http://0575ls.cn/...|https://hm.baidu.com|\n",
      "|http://0575ls.cn/...|http://www.beian....|\n",
      "|http://0575ls.cn/...|http://cdn.bootcs...|\n",
      "|http://0575ls.cn/...|  http://g.0575ls.cn|\n",
      "|http://08.od.ua/b...|     http://08.od.ua|\n",
      "|http://08.od.ua/b...|http://top100.ram...|\n",
      "|http://08.od.ua/b...|http://www.livein...|\n",
      "+--------------------+--------------------+\n",
      "only showing top 20 rows\n",
      "\n"
     ]
    }
   ],
   "source": [
    "exploded.show()\n"
   ]
  },
  {
   "cell_type": "code",
   "execution_count": null,
   "metadata": {},
   "outputs": [
    {
     "ename": "ConnectionRefusedError",
     "evalue": "[Errno 111] Connection refused",
     "output_type": "error",
     "traceback": [
      "\u001b[0;31m---------------------------------------------------------------------------\u001b[0m",
      "\u001b[0;31mConnectionRefusedError\u001b[0m                    Traceback (most recent call last)",
      "\u001b[1;32m/home/ubuntu/pagerank.ipynb Cell 6'\u001b[0m in \u001b[0;36m<cell line: 60>\u001b[0;34m()\u001b[0m\n\u001b[1;32m     <a href='vscode-notebook-cell://ssh-remote%2Bnamenode/home/ubuntu/pagerank.ipynb#ch0000007vscode-remote?line=56'>57</a>\u001b[0m     spark\u001b[39m.\u001b[39mstop()\n\u001b[1;32m     <a href='vscode-notebook-cell://ssh-remote%2Bnamenode/home/ubuntu/pagerank.ipynb#ch0000007vscode-remote?line=58'>59</a>\u001b[0m \u001b[39m#pageRank(\"testfile.txt\")\u001b[39;00m\n\u001b[0;32m---> <a href='vscode-notebook-cell://ssh-remote%2Bnamenode/home/ubuntu/pagerank.ipynb#ch0000007vscode-remote?line=59'>60</a>\u001b[0m pageRank(\u001b[39m'\u001b[39;49m\u001b[39mprocessed_data.json\u001b[39;49m\u001b[39m'\u001b[39;49m)\n",
      "\u001b[1;32m/home/ubuntu/pagerank.ipynb Cell 6'\u001b[0m in \u001b[0;36mpageRank\u001b[0;34m(file, iters)\u001b[0m\n\u001b[1;32m     <a href='vscode-notebook-cell://ssh-remote%2Bnamenode/home/ubuntu/pagerank.ipynb#ch0000007vscode-remote?line=16'>17</a>\u001b[0m \u001b[39m\"\"\"Naive PageRank algorithm.\"\"\"\u001b[39;00m\n\u001b[1;32m     <a href='vscode-notebook-cell://ssh-remote%2Bnamenode/home/ubuntu/pagerank.ipynb#ch0000007vscode-remote?line=18'>19</a>\u001b[0m \u001b[39m# Initialize the spark context.\u001b[39;00m\n\u001b[0;32m---> <a href='vscode-notebook-cell://ssh-remote%2Bnamenode/home/ubuntu/pagerank.ipynb#ch0000007vscode-remote?line=19'>20</a>\u001b[0m spark \u001b[39m=\u001b[39m SparkSession\\\n\u001b[1;32m     <a href='vscode-notebook-cell://ssh-remote%2Bnamenode/home/ubuntu/pagerank.ipynb#ch0000007vscode-remote?line=20'>21</a>\u001b[0m     \u001b[39m.\u001b[39;49mbuilder\\\n\u001b[1;32m     <a href='vscode-notebook-cell://ssh-remote%2Bnamenode/home/ubuntu/pagerank.ipynb#ch0000007vscode-remote?line=21'>22</a>\u001b[0m     \u001b[39m.\u001b[39;49mappName(\u001b[39m\"\u001b[39;49m\u001b[39mPythonPageRank\u001b[39;49m\u001b[39m\"\u001b[39;49m)\\\n\u001b[1;32m     <a href='vscode-notebook-cell://ssh-remote%2Bnamenode/home/ubuntu/pagerank.ipynb#ch0000007vscode-remote?line=22'>23</a>\u001b[0m     \u001b[39m.\u001b[39;49mgetOrCreate()\n\u001b[1;32m     <a href='vscode-notebook-cell://ssh-remote%2Bnamenode/home/ubuntu/pagerank.ipynb#ch0000007vscode-remote?line=24'>25</a>\u001b[0m \u001b[39m# Loads in input file. It should be in format of:\u001b[39;00m\n\u001b[1;32m     <a href='vscode-notebook-cell://ssh-remote%2Bnamenode/home/ubuntu/pagerank.ipynb#ch0000007vscode-remote?line=25'>26</a>\u001b[0m \u001b[39m#     URL         neighbor URL\u001b[39;00m\n\u001b[1;32m     <a href='vscode-notebook-cell://ssh-remote%2Bnamenode/home/ubuntu/pagerank.ipynb#ch0000007vscode-remote?line=26'>27</a>\u001b[0m \u001b[39m#     URL         neighbor URL\u001b[39;00m\n\u001b[0;32m   (...)\u001b[0m\n\u001b[1;32m     <a href='vscode-notebook-cell://ssh-remote%2Bnamenode/home/ubuntu/pagerank.ipynb#ch0000007vscode-remote?line=29'>30</a>\u001b[0m \n\u001b[1;32m     <a href='vscode-notebook-cell://ssh-remote%2Bnamenode/home/ubuntu/pagerank.ipynb#ch0000007vscode-remote?line=30'>31</a>\u001b[0m \u001b[39m#lines = spark.read.text(file).rdd.map(lambda r: r[0])\u001b[39;00m\n\u001b[1;32m     <a href='vscode-notebook-cell://ssh-remote%2Bnamenode/home/ubuntu/pagerank.ipynb#ch0000007vscode-remote?line=32'>33</a>\u001b[0m rdd_data \u001b[39m=\u001b[39m spark\u001b[39m.\u001b[39mread\u001b[39m.\u001b[39mjson(file)\n",
      "File \u001b[0;32m~/.local/lib/python3.8/site-packages/pyspark/sql/session.py:224\u001b[0m, in \u001b[0;36mSparkSession.Builder.getOrCreate\u001b[0;34m(self)\u001b[0m\n\u001b[1;32m    <a href='file:///home/ubuntu/.local/lib/python3.8/site-packages/pyspark/sql/session.py?line=221'>222</a>\u001b[0m     sc \u001b[39m=\u001b[39m \u001b[39mself\u001b[39m\u001b[39m.\u001b[39m_sc\n\u001b[1;32m    <a href='file:///home/ubuntu/.local/lib/python3.8/site-packages/pyspark/sql/session.py?line=222'>223</a>\u001b[0m \u001b[39melse\u001b[39;00m:\n\u001b[0;32m--> <a href='file:///home/ubuntu/.local/lib/python3.8/site-packages/pyspark/sql/session.py?line=223'>224</a>\u001b[0m     sparkConf \u001b[39m=\u001b[39m SparkConf()\n\u001b[1;32m    <a href='file:///home/ubuntu/.local/lib/python3.8/site-packages/pyspark/sql/session.py?line=224'>225</a>\u001b[0m     \u001b[39mfor\u001b[39;00m key, value \u001b[39min\u001b[39;00m \u001b[39mself\u001b[39m\u001b[39m.\u001b[39m_options\u001b[39m.\u001b[39mitems():\n\u001b[1;32m    <a href='file:///home/ubuntu/.local/lib/python3.8/site-packages/pyspark/sql/session.py?line=225'>226</a>\u001b[0m         sparkConf\u001b[39m.\u001b[39mset(key, value)\n",
      "File \u001b[0;32m~/.local/lib/python3.8/site-packages/pyspark/conf.py:120\u001b[0m, in \u001b[0;36mSparkConf.__init__\u001b[0;34m(self, loadDefaults, _jvm, _jconf)\u001b[0m\n\u001b[1;32m    <a href='file:///home/ubuntu/.local/lib/python3.8/site-packages/pyspark/conf.py?line=115'>116</a>\u001b[0m _jvm \u001b[39m=\u001b[39m _jvm \u001b[39mor\u001b[39;00m SparkContext\u001b[39m.\u001b[39m_jvm\n\u001b[1;32m    <a href='file:///home/ubuntu/.local/lib/python3.8/site-packages/pyspark/conf.py?line=117'>118</a>\u001b[0m \u001b[39mif\u001b[39;00m _jvm \u001b[39mis\u001b[39;00m \u001b[39mnot\u001b[39;00m \u001b[39mNone\u001b[39;00m:\n\u001b[1;32m    <a href='file:///home/ubuntu/.local/lib/python3.8/site-packages/pyspark/conf.py?line=118'>119</a>\u001b[0m     \u001b[39m# JVM is created, so create self._jconf directly through JVM\u001b[39;00m\n\u001b[0;32m--> <a href='file:///home/ubuntu/.local/lib/python3.8/site-packages/pyspark/conf.py?line=119'>120</a>\u001b[0m     \u001b[39mself\u001b[39m\u001b[39m.\u001b[39m_jconf \u001b[39m=\u001b[39m _jvm\u001b[39m.\u001b[39;49mSparkConf(loadDefaults)\n\u001b[1;32m    <a href='file:///home/ubuntu/.local/lib/python3.8/site-packages/pyspark/conf.py?line=120'>121</a>\u001b[0m     \u001b[39mself\u001b[39m\u001b[39m.\u001b[39m_conf \u001b[39m=\u001b[39m \u001b[39mNone\u001b[39;00m\n\u001b[1;32m    <a href='file:///home/ubuntu/.local/lib/python3.8/site-packages/pyspark/conf.py?line=121'>122</a>\u001b[0m \u001b[39melse\u001b[39;00m:\n\u001b[1;32m    <a href='file:///home/ubuntu/.local/lib/python3.8/site-packages/pyspark/conf.py?line=122'>123</a>\u001b[0m     \u001b[39m# JVM is not created, so store data in self._conf first\u001b[39;00m\n",
      "File \u001b[0;32m~/.local/lib/python3.8/site-packages/py4j/java_gateway.py:1709\u001b[0m, in \u001b[0;36mJVMView.__getattr__\u001b[0;34m(self, name)\u001b[0m\n\u001b[1;32m   <a href='file:///home/ubuntu/.local/lib/python3.8/site-packages/py4j/java_gateway.py?line=1705'>1706</a>\u001b[0m \u001b[39mif\u001b[39;00m name \u001b[39m==\u001b[39m UserHelpAutoCompletion\u001b[39m.\u001b[39mKEY:\n\u001b[1;32m   <a href='file:///home/ubuntu/.local/lib/python3.8/site-packages/py4j/java_gateway.py?line=1706'>1707</a>\u001b[0m     \u001b[39mreturn\u001b[39;00m UserHelpAutoCompletion()\n\u001b[0;32m-> <a href='file:///home/ubuntu/.local/lib/python3.8/site-packages/py4j/java_gateway.py?line=1708'>1709</a>\u001b[0m answer \u001b[39m=\u001b[39m \u001b[39mself\u001b[39;49m\u001b[39m.\u001b[39;49m_gateway_client\u001b[39m.\u001b[39;49msend_command(\n\u001b[1;32m   <a href='file:///home/ubuntu/.local/lib/python3.8/site-packages/py4j/java_gateway.py?line=1709'>1710</a>\u001b[0m     proto\u001b[39m.\u001b[39;49mREFLECTION_COMMAND_NAME \u001b[39m+\u001b[39;49m\n\u001b[1;32m   <a href='file:///home/ubuntu/.local/lib/python3.8/site-packages/py4j/java_gateway.py?line=1710'>1711</a>\u001b[0m     proto\u001b[39m.\u001b[39;49mREFL_GET_UNKNOWN_SUB_COMMAND_NAME \u001b[39m+\u001b[39;49m name \u001b[39m+\u001b[39;49m \u001b[39m\"\u001b[39;49m\u001b[39m\\n\u001b[39;49;00m\u001b[39m\"\u001b[39;49m \u001b[39m+\u001b[39;49m \u001b[39mself\u001b[39;49m\u001b[39m.\u001b[39;49m_id \u001b[39m+\u001b[39;49m\n\u001b[1;32m   <a href='file:///home/ubuntu/.local/lib/python3.8/site-packages/py4j/java_gateway.py?line=1711'>1712</a>\u001b[0m     \u001b[39m\"\u001b[39;49m\u001b[39m\\n\u001b[39;49;00m\u001b[39m\"\u001b[39;49m \u001b[39m+\u001b[39;49m proto\u001b[39m.\u001b[39;49mEND_COMMAND_PART)\n\u001b[1;32m   <a href='file:///home/ubuntu/.local/lib/python3.8/site-packages/py4j/java_gateway.py?line=1712'>1713</a>\u001b[0m \u001b[39mif\u001b[39;00m answer \u001b[39m==\u001b[39m proto\u001b[39m.\u001b[39mSUCCESS_PACKAGE:\n\u001b[1;32m   <a href='file:///home/ubuntu/.local/lib/python3.8/site-packages/py4j/java_gateway.py?line=1713'>1714</a>\u001b[0m     \u001b[39mreturn\u001b[39;00m JavaPackage(name, \u001b[39mself\u001b[39m\u001b[39m.\u001b[39m_gateway_client, jvm_id\u001b[39m=\u001b[39m\u001b[39mself\u001b[39m\u001b[39m.\u001b[39m_id)\n",
      "File \u001b[0;32m~/.local/lib/python3.8/site-packages/py4j/java_gateway.py:1036\u001b[0m, in \u001b[0;36mGatewayClient.send_command\u001b[0;34m(self, command, retry, binary)\u001b[0m\n\u001b[1;32m   <a href='file:///home/ubuntu/.local/lib/python3.8/site-packages/py4j/java_gateway.py?line=1014'>1015</a>\u001b[0m \u001b[39mdef\u001b[39;00m \u001b[39msend_command\u001b[39m(\u001b[39mself\u001b[39m, command, retry\u001b[39m=\u001b[39m\u001b[39mTrue\u001b[39;00m, binary\u001b[39m=\u001b[39m\u001b[39mFalse\u001b[39;00m):\n\u001b[1;32m   <a href='file:///home/ubuntu/.local/lib/python3.8/site-packages/py4j/java_gateway.py?line=1015'>1016</a>\u001b[0m     \u001b[39m\"\"\"Sends a command to the JVM. This method is not intended to be\u001b[39;00m\n\u001b[1;32m   <a href='file:///home/ubuntu/.local/lib/python3.8/site-packages/py4j/java_gateway.py?line=1016'>1017</a>\u001b[0m \u001b[39m       called directly by Py4J users. It is usually called by\u001b[39;00m\n\u001b[1;32m   <a href='file:///home/ubuntu/.local/lib/python3.8/site-packages/py4j/java_gateway.py?line=1017'>1018</a>\u001b[0m \u001b[39m       :class:`JavaMember` instances.\u001b[39;00m\n\u001b[0;32m   (...)\u001b[0m\n\u001b[1;32m   <a href='file:///home/ubuntu/.local/lib/python3.8/site-packages/py4j/java_gateway.py?line=1033'>1034</a>\u001b[0m \u001b[39m     if `binary` is `True`.\u001b[39;00m\n\u001b[1;32m   <a href='file:///home/ubuntu/.local/lib/python3.8/site-packages/py4j/java_gateway.py?line=1034'>1035</a>\u001b[0m \u001b[39m    \"\"\"\u001b[39;00m\n\u001b[0;32m-> <a href='file:///home/ubuntu/.local/lib/python3.8/site-packages/py4j/java_gateway.py?line=1035'>1036</a>\u001b[0m     connection \u001b[39m=\u001b[39m \u001b[39mself\u001b[39;49m\u001b[39m.\u001b[39;49m_get_connection()\n\u001b[1;32m   <a href='file:///home/ubuntu/.local/lib/python3.8/site-packages/py4j/java_gateway.py?line=1036'>1037</a>\u001b[0m     \u001b[39mtry\u001b[39;00m:\n\u001b[1;32m   <a href='file:///home/ubuntu/.local/lib/python3.8/site-packages/py4j/java_gateway.py?line=1037'>1038</a>\u001b[0m         response \u001b[39m=\u001b[39m connection\u001b[39m.\u001b[39msend_command(command)\n",
      "File \u001b[0;32m~/.local/lib/python3.8/site-packages/py4j/clientserver.py:281\u001b[0m, in \u001b[0;36mJavaClient._get_connection\u001b[0;34m(self)\u001b[0m\n\u001b[1;32m    <a href='file:///home/ubuntu/.local/lib/python3.8/site-packages/py4j/clientserver.py?line=277'>278</a>\u001b[0m     \u001b[39mpass\u001b[39;00m\n\u001b[1;32m    <a href='file:///home/ubuntu/.local/lib/python3.8/site-packages/py4j/clientserver.py?line=279'>280</a>\u001b[0m \u001b[39mif\u001b[39;00m connection \u001b[39mis\u001b[39;00m \u001b[39mNone\u001b[39;00m \u001b[39mor\u001b[39;00m connection\u001b[39m.\u001b[39msocket \u001b[39mis\u001b[39;00m \u001b[39mNone\u001b[39;00m:\n\u001b[0;32m--> <a href='file:///home/ubuntu/.local/lib/python3.8/site-packages/py4j/clientserver.py?line=280'>281</a>\u001b[0m     connection \u001b[39m=\u001b[39m \u001b[39mself\u001b[39;49m\u001b[39m.\u001b[39;49m_create_new_connection()\n\u001b[1;32m    <a href='file:///home/ubuntu/.local/lib/python3.8/site-packages/py4j/clientserver.py?line=281'>282</a>\u001b[0m \u001b[39mreturn\u001b[39;00m connection\n",
      "File \u001b[0;32m~/.local/lib/python3.8/site-packages/py4j/clientserver.py:288\u001b[0m, in \u001b[0;36mJavaClient._create_new_connection\u001b[0;34m(self)\u001b[0m\n\u001b[1;32m    <a href='file:///home/ubuntu/.local/lib/python3.8/site-packages/py4j/clientserver.py?line=283'>284</a>\u001b[0m \u001b[39mdef\u001b[39;00m \u001b[39m_create_new_connection\u001b[39m(\u001b[39mself\u001b[39m):\n\u001b[1;32m    <a href='file:///home/ubuntu/.local/lib/python3.8/site-packages/py4j/clientserver.py?line=284'>285</a>\u001b[0m     connection \u001b[39m=\u001b[39m ClientServerConnection(\n\u001b[1;32m    <a href='file:///home/ubuntu/.local/lib/python3.8/site-packages/py4j/clientserver.py?line=285'>286</a>\u001b[0m         \u001b[39mself\u001b[39m\u001b[39m.\u001b[39mjava_parameters, \u001b[39mself\u001b[39m\u001b[39m.\u001b[39mpython_parameters,\n\u001b[1;32m    <a href='file:///home/ubuntu/.local/lib/python3.8/site-packages/py4j/clientserver.py?line=286'>287</a>\u001b[0m         \u001b[39mself\u001b[39m\u001b[39m.\u001b[39mgateway_property, \u001b[39mself\u001b[39m)\n\u001b[0;32m--> <a href='file:///home/ubuntu/.local/lib/python3.8/site-packages/py4j/clientserver.py?line=287'>288</a>\u001b[0m     connection\u001b[39m.\u001b[39;49mconnect_to_java_server()\n\u001b[1;32m    <a href='file:///home/ubuntu/.local/lib/python3.8/site-packages/py4j/clientserver.py?line=288'>289</a>\u001b[0m     \u001b[39mself\u001b[39m\u001b[39m.\u001b[39mset_thread_connection(connection)\n\u001b[1;32m    <a href='file:///home/ubuntu/.local/lib/python3.8/site-packages/py4j/clientserver.py?line=289'>290</a>\u001b[0m     \u001b[39mreturn\u001b[39;00m connection\n",
      "File \u001b[0;32m~/.local/lib/python3.8/site-packages/py4j/clientserver.py:402\u001b[0m, in \u001b[0;36mClientServerConnection.connect_to_java_server\u001b[0;34m(self)\u001b[0m\n\u001b[1;32m    <a href='file:///home/ubuntu/.local/lib/python3.8/site-packages/py4j/clientserver.py?line=398'>399</a>\u001b[0m \u001b[39mif\u001b[39;00m \u001b[39mself\u001b[39m\u001b[39m.\u001b[39mssl_context:\n\u001b[1;32m    <a href='file:///home/ubuntu/.local/lib/python3.8/site-packages/py4j/clientserver.py?line=399'>400</a>\u001b[0m     \u001b[39mself\u001b[39m\u001b[39m.\u001b[39msocket \u001b[39m=\u001b[39m \u001b[39mself\u001b[39m\u001b[39m.\u001b[39mssl_context\u001b[39m.\u001b[39mwrap_socket(\n\u001b[1;32m    <a href='file:///home/ubuntu/.local/lib/python3.8/site-packages/py4j/clientserver.py?line=400'>401</a>\u001b[0m         \u001b[39mself\u001b[39m\u001b[39m.\u001b[39msocket, server_hostname\u001b[39m=\u001b[39m\u001b[39mself\u001b[39m\u001b[39m.\u001b[39mjava_address)\n\u001b[0;32m--> <a href='file:///home/ubuntu/.local/lib/python3.8/site-packages/py4j/clientserver.py?line=401'>402</a>\u001b[0m \u001b[39mself\u001b[39;49m\u001b[39m.\u001b[39;49msocket\u001b[39m.\u001b[39;49mconnect((\u001b[39mself\u001b[39;49m\u001b[39m.\u001b[39;49mjava_address, \u001b[39mself\u001b[39;49m\u001b[39m.\u001b[39;49mjava_port))\n\u001b[1;32m    <a href='file:///home/ubuntu/.local/lib/python3.8/site-packages/py4j/clientserver.py?line=402'>403</a>\u001b[0m \u001b[39mself\u001b[39m\u001b[39m.\u001b[39mstream \u001b[39m=\u001b[39m \u001b[39mself\u001b[39m\u001b[39m.\u001b[39msocket\u001b[39m.\u001b[39mmakefile(\u001b[39m\"\u001b[39m\u001b[39mrb\u001b[39m\u001b[39m\"\u001b[39m)\n\u001b[1;32m    <a href='file:///home/ubuntu/.local/lib/python3.8/site-packages/py4j/clientserver.py?line=403'>404</a>\u001b[0m \u001b[39mself\u001b[39m\u001b[39m.\u001b[39mis_connected \u001b[39m=\u001b[39m \u001b[39mTrue\u001b[39;00m\n",
      "\u001b[0;31mConnectionRefusedError\u001b[0m: [Errno 111] Connection refused"
     ]
    }
   ],
   "source": [
    "# Code copied from: https://github.com/apache/spark/blob/master/examples/src/main/python/pagerank.py\n",
    "def computeContribs(urls, rank):\n",
    "    \"\"\"Calculates URL contributions to the rank of other URLs.\"\"\"\n",
    "    num_urls = len(urls)\n",
    "    for url in urls:\n",
    "        yield (url, rank / num_urls)\n",
    "\n",
    "def parseNeighbors(urls):\n",
    "    \"\"\"Parses a urls pair string into urls pair.\"\"\"\n",
    "    \n",
    "    #parts = re.split(r'\\s+', urls)\n",
    "    parts = urls\n",
    "    return parts[0], parts[1]\n",
    "\n",
    "\n",
    "def pageRank(file, iters = 10):\n",
    "    \"\"\"Naive PageRank algorithm.\"\"\"\n",
    "    \n",
    "    # Initialize the spark context.\n",
    "    spark = SparkSession\\\n",
    "        .builder\\\n",
    "        .appName(\"PythonPageRank\")\\\n",
    "        .getOrCreate()\n",
    "\n",
    "    # Loads in input file. It should be in format of:\n",
    "    #     URL         neighbor URL\n",
    "    #     URL         neighbor URL\n",
    "    #     URL         neighbor URL\n",
    "    #     ...\n",
    "\n",
    "    #lines = spark.read.text(file).rdd.map(lambda r: r[0])\n",
    "    \n",
    "    rdd_data = spark.read.json(file)\n",
    "    exploded = rdd_data.select('url', explode_outer(rdd_data.neighbor_urls).alias(\"neighbour_url\"))\n",
    "    lines = exploded.rdd.map(lambda x: x)\n",
    "    # Loads all URLs from input file and initialize their neighbors.\n",
    "    links = lines.map(lambda urls: parseNeighbors(urls)).distinct().groupByKey().cache()\n",
    "    #print(links.take(5))\n",
    "    # Loads all URLs with other URL(s) link to from input file and initialize ranks of them to one.\n",
    "    ranks = links.map(lambda url_neighbors: (url_neighbors[0], 1.0))\n",
    "    #print(ranks.take(5))\n",
    "\n",
    "    # Calculates and updates URL ranks continuously using PageRank algorithm.\n",
    "    for iteration in range(int(iters)):\n",
    "        # Calculates URL contributions to the rank of other URLs.\n",
    "        contribs = links.join(ranks).flatMap(lambda url_urls_rank: computeContribs(\n",
    "            url_urls_rank[1][0], url_urls_rank[1][1]  # type: ignore[arg-type]\n",
    "        ))\n",
    "        # Re-calculates URL ranks based on neighbor contributions.\n",
    "        ranks = contribs.reduceByKey(add).mapValues(lambda rank: rank * 0.85 + 0.15)\n",
    "        print(ranks.take(5))\n",
    "    #print(ranks.take(5))\n",
    "    # Collects all URL ranks and dump them to console.\n",
    "    for (link, rank) in ranks.collect():\n",
    "        print(\"%s has rank: %s.\" % (link, rank))\n",
    "\n",
    "    spark.stop()\n",
    "\n",
    "#pageRank(\"testfile.txt\")\n",
    "pageRank('processed_data.json')"
   ]
  },
  {
   "cell_type": "code",
   "execution_count": null,
   "metadata": {},
   "outputs": [
    {
     "ename": "AttributeError",
     "evalue": "'NoneType' object has no attribute 'sc'",
     "output_type": "error",
     "traceback": [
      "\u001b[0;31m---------------------------------------------------------------------------\u001b[0m",
      "\u001b[0;31mAttributeError\u001b[0m                            Traceback (most recent call last)",
      "\u001b[1;32m/home/ubuntu/pagerank.ipynb Cell 4'\u001b[0m in \u001b[0;36m<cell line: 1>\u001b[0;34m()\u001b[0m\n\u001b[0;32m----> <a href='vscode-notebook-cell://ssh-remote%2Bnamenode/home/ubuntu/pagerank.ipynb#ch0000003vscode-remote?line=0'>1</a>\u001b[0m hadoop_rdd \u001b[39m=\u001b[39m spark\u001b[39m.\u001b[39;49msparkContext\u001b[39m.\u001b[39;49mtextFile(\u001b[39m\"\u001b[39;49m\u001b[39mhdfs://namenode:9000/crawl-data/warc/processed_data_new.txt\u001b[39;49m\u001b[39m\"\u001b[39;49m)\n",
      "File \u001b[0;32m~/.local/lib/python3.8/site-packages/pyspark/context.py:654\u001b[0m, in \u001b[0;36mSparkContext.textFile\u001b[0;34m(self, name, minPartitions, use_unicode)\u001b[0m\n\u001b[1;32m    <a href='file:///home/ubuntu/.local/lib/python3.8/site-packages/pyspark/context.py?line=633'>634</a>\u001b[0m \u001b[39mdef\u001b[39;00m \u001b[39mtextFile\u001b[39m(\u001b[39mself\u001b[39m, name, minPartitions\u001b[39m=\u001b[39m\u001b[39mNone\u001b[39;00m, use_unicode\u001b[39m=\u001b[39m\u001b[39mTrue\u001b[39;00m):\n\u001b[1;32m    <a href='file:///home/ubuntu/.local/lib/python3.8/site-packages/pyspark/context.py?line=634'>635</a>\u001b[0m     \u001b[39m\"\"\"\u001b[39;00m\n\u001b[1;32m    <a href='file:///home/ubuntu/.local/lib/python3.8/site-packages/pyspark/context.py?line=635'>636</a>\u001b[0m \u001b[39m    Read a text file from HDFS, a local file system (available on all\u001b[39;00m\n\u001b[1;32m    <a href='file:///home/ubuntu/.local/lib/python3.8/site-packages/pyspark/context.py?line=636'>637</a>\u001b[0m \u001b[39m    nodes), or any Hadoop-supported file system URI, and return it as an\u001b[39;00m\n\u001b[0;32m   (...)\u001b[0m\n\u001b[1;32m    <a href='file:///home/ubuntu/.local/lib/python3.8/site-packages/pyspark/context.py?line=651'>652</a>\u001b[0m \u001b[39m    ['Hello world!']\u001b[39;00m\n\u001b[1;32m    <a href='file:///home/ubuntu/.local/lib/python3.8/site-packages/pyspark/context.py?line=652'>653</a>\u001b[0m \u001b[39m    \"\"\"\u001b[39;00m\n\u001b[0;32m--> <a href='file:///home/ubuntu/.local/lib/python3.8/site-packages/pyspark/context.py?line=653'>654</a>\u001b[0m     minPartitions \u001b[39m=\u001b[39m minPartitions \u001b[39mor\u001b[39;00m \u001b[39mmin\u001b[39m(\u001b[39mself\u001b[39;49m\u001b[39m.\u001b[39;49mdefaultParallelism, \u001b[39m2\u001b[39m)\n\u001b[1;32m    <a href='file:///home/ubuntu/.local/lib/python3.8/site-packages/pyspark/context.py?line=654'>655</a>\u001b[0m     \u001b[39mreturn\u001b[39;00m RDD(\u001b[39mself\u001b[39m\u001b[39m.\u001b[39m_jsc\u001b[39m.\u001b[39mtextFile(name, minPartitions), \u001b[39mself\u001b[39m,\n\u001b[1;32m    <a href='file:///home/ubuntu/.local/lib/python3.8/site-packages/pyspark/context.py?line=655'>656</a>\u001b[0m                UTF8Deserializer(use_unicode))\n",
      "File \u001b[0;32m~/.local/lib/python3.8/site-packages/pyspark/context.py:450\u001b[0m, in \u001b[0;36mSparkContext.defaultParallelism\u001b[0;34m(self)\u001b[0m\n\u001b[1;32m    <a href='file:///home/ubuntu/.local/lib/python3.8/site-packages/pyspark/context.py?line=443'>444</a>\u001b[0m \u001b[39m@property\u001b[39m\n\u001b[1;32m    <a href='file:///home/ubuntu/.local/lib/python3.8/site-packages/pyspark/context.py?line=444'>445</a>\u001b[0m \u001b[39mdef\u001b[39;00m \u001b[39mdefaultParallelism\u001b[39m(\u001b[39mself\u001b[39m):\n\u001b[1;32m    <a href='file:///home/ubuntu/.local/lib/python3.8/site-packages/pyspark/context.py?line=445'>446</a>\u001b[0m     \u001b[39m\"\"\"\u001b[39;00m\n\u001b[1;32m    <a href='file:///home/ubuntu/.local/lib/python3.8/site-packages/pyspark/context.py?line=446'>447</a>\u001b[0m \u001b[39m    Default level of parallelism to use when not given by user (e.g. for\u001b[39;00m\n\u001b[1;32m    <a href='file:///home/ubuntu/.local/lib/python3.8/site-packages/pyspark/context.py?line=447'>448</a>\u001b[0m \u001b[39m    reduce tasks)\u001b[39;00m\n\u001b[1;32m    <a href='file:///home/ubuntu/.local/lib/python3.8/site-packages/pyspark/context.py?line=448'>449</a>\u001b[0m \u001b[39m    \"\"\"\u001b[39;00m\n\u001b[0;32m--> <a href='file:///home/ubuntu/.local/lib/python3.8/site-packages/pyspark/context.py?line=449'>450</a>\u001b[0m     \u001b[39mreturn\u001b[39;00m \u001b[39mself\u001b[39;49m\u001b[39m.\u001b[39;49m_jsc\u001b[39m.\u001b[39;49msc()\u001b[39m.\u001b[39mdefaultParallelism()\n",
      "\u001b[0;31mAttributeError\u001b[0m: 'NoneType' object has no attribute 'sc'"
     ]
    }
   ],
   "source": [
    "hadoop_rdd = spark.sparkContext.textFile(\"hdfs://namenode:9000/crawl-data/warc/processed_data_new.txt\")"
   ]
  }
 ],
 "metadata": {
  "interpreter": {
   "hash": "916dbcbb3f70747c44a77c7bcd40155683ae19c65e1c03b4aa3499c5328201f1"
  },
  "kernelspec": {
   "display_name": "Python 3.8.10 64-bit",
   "language": "python",
   "name": "python3"
  },
  "language_info": {
   "codemirror_mode": {
    "name": "ipython",
    "version": 3
   },
   "file_extension": ".py",
   "mimetype": "text/x-python",
   "name": "python",
   "nbconvert_exporter": "python",
   "pygments_lexer": "ipython3",
   "version": "3.8.10"
  },
  "orig_nbformat": 4
 },
 "nbformat": 4,
 "nbformat_minor": 2
}
